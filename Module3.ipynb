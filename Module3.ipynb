{
 "cells": [
  {
   "cell_type": "markdown",
   "metadata": {},
   "source": [
    "Write a function code to find total count of word little in the given string: \"Mary had a little lamb Little lamb, little lamb Mary had a little lamb.Its fleece was white as snow And everywhere that Mary went Mary went, Mary went Everywhere that Mary went The lamb was sure to go little.\""
   ]
  },
  {
   "cell_type": "code",
   "execution_count": null,
   "metadata": {},
   "outputs": [],
   "source": [
    "string = \"Mary had a little lamb Little lamb, little lamb Mary had a little lamb.Its fleece was white as snow And everywhere that Mary went Mary went, Mary went Everywhere that Mary went The lamb was sure to go little.\"\n",
    "key = \"little\"\n",
    "\n",
    "def word_count (string, key):\n",
    "    words = string.lower().replace(\",\", \"\").replace(\".\", \"\").split()\n",
    "    Dict = {}\n",
    "\n",
    "    print(words)\n",
    "    for word in words:\n",
    "        Dict[word] = Dict.get(word, 0) + 1\n",
    "      # Dict[word] stores the updated count back into the dictionary using square brackets.\n",
    "      #.get function is used to check if a specific attribute exists in a dictionary.\n",
    "    \n",
    "    print(f'Total count of the word {key} in the string is: {Dict[key]}')\n",
    "\n",
    "    #return Dict #retrieves the total count for all words in the string\n",
    "    return Dict[key] #retrieves the total count for a specific word in the string\n",
    "\n",
    "word_count (string, key)"
   ]
  },
  {
   "cell_type": "markdown",
   "metadata": {},
   "source": [
    "Imagine you have two numbers and want to determine what happens when you divide one number by the other. To do this, you need to create a Python function called `safe_divide.` You give this function two numbers, a `'numerator'` and a `'denominator'`. The 'numerator' is the number you want to divide, and the `'denominator'` is the number you want to divide by. Use the user input method of Python to take the values.\n",
    "\n",
    "The function should be able to do the division for you and give you the result. But here's the catch: if you try to divide by zero (which is not allowed in math), the function should be smart enough to catch that and tell you that it's not possible to divide by zero. Instead of showing an error, it should return None, which means 'nothing' or 'no value', and print `\"Error: Cannot divide by Zero.`"
   ]
  },
  {
   "cell_type": "code",
   "execution_count": null,
   "metadata": {},
   "outputs": [],
   "source": [
    "def safe_divice():\n",
    "    try:\n",
    "        numerator = input(\"Enter a number you want to divide: \")\n",
    "        denominator = input(\"Enter the number you want the previous number to be divided: \")\n",
    "        return (int(numerator)/int(denominator))\n",
    "    except ZeroDivisionError:\n",
    "        print(\"Error: Cannot divide by Zero.\")\n",
    "        return None\n",
    "\n",
    "safe_divice()"
   ]
  },
  {
   "cell_type": "markdown",
   "metadata": {},
   "source": [
    "Imagine you have a number and want to calculate its square root. To do this, you need to create a Python function. You give this function one number, `'number1'`.\n",
    "\n",
    "The function should generate the square root value if you provide a positive integer or float value as input. However, the function should be clever enough to detect the mistake if you enter a negative value. It should kindly inform you with a message saying, `'Invalid input! Please enter a positive integer or a float value.`\n"
   ]
  },
  {
   "cell_type": "code",
   "execution_count": null,
   "metadata": {},
   "outputs": [],
   "source": []
  }
 ],
 "metadata": {
  "kernelspec": {
   "display_name": "Python 3",
   "language": "python",
   "name": "python3"
  },
  "language_info": {
   "codemirror_mode": {
    "name": "ipython",
    "version": 3
   },
   "file_extension": ".py",
   "mimetype": "text/x-python",
   "name": "python",
   "nbconvert_exporter": "python",
   "pygments_lexer": "ipython3",
   "version": "3.9.6"
  }
 },
 "nbformat": 4,
 "nbformat_minor": 2
}
