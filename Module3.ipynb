{
 "cells": [
  {
   "cell_type": "markdown",
   "metadata": {},
   "source": [
    "Write a function code to find total count of word little in the given string: \"Mary had a little lamb Little lamb, little lamb Mary had a little lamb.Its fleece was white as snow And everywhere that Mary went Mary went, Mary went Everywhere that Mary went The lamb was sure to go little.\""
   ]
  },
  {
   "cell_type": "code",
   "execution_count": null,
   "metadata": {},
   "outputs": [],
   "source": [
    "string = \"Mary had a little lamb Little lamb, little lamb Mary had a little lamb.Its fleece was white as snow And everywhere that Mary went Mary went, Mary went Everywhere that Mary went The lamb was sure to go little.\"\n",
    "key = \"little\"\n",
    "\n",
    "def word_count (string, key):\n",
    "    words = string.lower().replace(\",\", \"\").replace(\".\", \"\").split()\n",
    "    Dict = {}\n",
    "\n",
    "    print(words)\n",
    "    for word in words:\n",
    "        Dict[word] = Dict.get(word, 0) + 1\n",
    "      # Dict[word] stores the updated count back into the dictionary using square brackets.\n",
    "      #.get function is used to check if a specific attribute exists in a dictionary.\n",
    "    \n",
    "    print(f'Total count of the word {key} in the string is: {Dict[key]}')\n",
    "\n",
    "    #return Dict #retrieves the total count for all words in the string\n",
    "    return Dict[key] #retrieves the total count for a specific word in the string\n",
    "\n",
    "word_count (string, key)"
   ]
  },
  {
   "cell_type": "markdown",
   "metadata": {},
   "source": [
    "Imagine you have two numbers and want to determine what happens when you divide one number by the other. To do this, you need to create a Python function called `safe_divide.` You give this function two numbers, a `'numerator'` and a `'denominator'`. The 'numerator' is the number you want to divide, and the `'denominator'` is the number you want to divide by. Use the user input method of Python to take the values.\n",
    "\n",
    "The function should be able to do the division for you and give you the result. But here's the catch: if you try to divide by zero (which is not allowed in math), the function should be smart enough to catch that and tell you that it's not possible to divide by zero. Instead of showing an error, it should return None, which means 'nothing' or 'no value', and print `\"Error: Cannot divide by Zero.`"
   ]
  },
  {
   "cell_type": "code",
   "execution_count": 1,
   "metadata": {},
   "outputs": [
    {
     "data": {
      "text/plain": [
       "0.5"
      ]
     },
     "execution_count": 1,
     "metadata": {},
     "output_type": "execute_result"
    }
   ],
   "source": [
    "def safe_divice():\n",
    "    try:\n",
    "        numerator = input(\"Enter a number you want to divide: \")\n",
    "        denominator = input(\"Enter the number you want the previous number to be divided: \")\n",
    "        return (int(numerator)/int(denominator))\n",
    "    except ZeroDivisionError:\n",
    "        print(\"Error: Cannot divide by Zero.\")\n",
    "        return None\n",
    "\n",
    "safe_divice()"
   ]
  },
  {
   "cell_type": "markdown",
   "metadata": {},
   "source": [
    "Imagine you have a number and want to calculate its square root. To do this, you need to create a Python function. You give this function one number, `'number1'`.\n",
    "\n",
    "The function should generate the square root value if you provide a positive integer or float value as input. However, the function should be clever enough to detect the mistake if you enter a negative value. It should kindly inform you with a message saying, `'Invalid input! Please enter a positive integer or a float value.`\n"
   ]
  },
  {
   "cell_type": "code",
   "execution_count": 4,
   "metadata": {},
   "outputs": [
    {
     "name": "stdout",
     "output_type": "stream",
     "text": [
      "Invalid input! Please enter a positive integer or a float value.\n"
     ]
    }
   ],
   "source": [
    "def square(number1):\n",
    "    if number1>0:\n",
    "        result = number1 * number1\n",
    "        print(result)\n",
    "    else:\n",
    "        print(\"Invalid input! Please enter a positive integer or a float value.\")\n",
    "\n",
    "square(-0.1)\n"
   ]
  },
  {
   "cell_type": "code",
   "execution_count": 10,
   "metadata": {},
   "outputs": [
    {
     "name": "stdout",
     "output_type": "stream",
     "text": [
      "Error: Invalid input! Please enter a positive integer or a float value.\n"
     ]
    }
   ],
   "source": [
    "import math \n",
    "\n",
    "''''\n",
    "Import this module is important, becuase it gives the an nature error\n",
    "if we add a negavite to the square root function.\n",
    "'''\n",
    "\n",
    "def perform_calculation(number1):\n",
    "    try:\n",
    "        result = math.sqrt(number1)\n",
    "        print(f\"Result: {result}\")\n",
    "    except ValueError:\n",
    "        print(\"Error: Invalid input! Please enter a positive integer or a float value.\")\n",
    "# Test case\n",
    "number1=float(input(\"Enter the number:-\"))\n",
    "perform_calculation(number1)"
   ]
  },
  {
   "cell_type": "markdown",
   "metadata": {},
   "source": [
    "Imagine you have a number and want to perform a complex mathematical task. The calculation requires dividing the value of the input argument `\"num\"` by the difference between `\"num\"` and 5, and the result has to be stored in a variable called `\"result\"`.\n",
    "\n",
    "You have to define a function so that it can perform that complex mathematical task. The function should handle any potential errors that occur during the calculation. To do this, you can use a try-except block. If any exception arises during the calculation, it should catch the error using the generic exception class `\"Exception\" as \"e\"`. When an exception occurs, the function should display `\"An error occurred during calculation.`\n"
   ]
  },
  {
   "cell_type": "code",
   "execution_count": 15,
   "metadata": {},
   "outputs": [
    {
     "name": "stdout",
     "output_type": "stream",
     "text": [
      "An error occurred during calculation\n"
     ]
    }
   ],
   "source": [
    "def math_task(num):\n",
    "    try:\n",
    "        result = num/(num - 5)\n",
    "        return result\n",
    "    except Exception as e:\n",
    "        print(\"An error occurred during calculation\")\n",
    "\n",
    "\n",
    "math_task(5)"
   ]
  },
  {
   "cell_type": "markdown",
   "metadata": {},
   "source": [
    "Scenario: Car dealership's inventory management system\n",
    "You are working on a Python program to simulate a car dealership's inventory management system. The system aims to model cars and their attributes accurately.\n",
    "\n",
    "Task-1. You are tasked with creating a Python program to represent vehicles using a class. Each car should have attributes for maximum speed and mileage."
   ]
  },
  {
   "cell_type": "code",
   "execution_count": null,
   "metadata": {},
   "outputs": [],
   "source": [
    "class Car_Inventory:\n",
    "    def __init__ (self, max_speed, mileage):\n",
    "        self.max_speed = max_speed\n",
    "        self.mileage = mileage"
   ]
  },
  {
   "cell_type": "markdown",
   "metadata": {},
   "source": [
    "Task-2. Update the class with the default color for all vehicles,\" white\"."
   ]
  },
  {
   "cell_type": "code",
   "execution_count": null,
   "metadata": {},
   "outputs": [
    {
     "name": "stdout",
     "output_type": "stream",
     "text": [
      "red\n"
     ]
    }
   ],
   "source": [
    "class Car_Inventory:\n",
    "    def __init__ (self, max_speed, mileage, color = \"white\"):\n",
    "        self.max_speed = max_speed\n",
    "        self.mileage = mileage\n",
    "        self.color = color\n",
    "\n",
    "print(Car_Inventory(120, 15000, \"red\").color)"
   ]
  },
  {
   "cell_type": "markdown",
   "metadata": {},
   "source": [
    "Task-3. Additionally, you need to create methods in the Vehicle class to assign seating capacity to a vehicle."
   ]
  },
  {
   "cell_type": "code",
   "execution_count": null,
   "metadata": {},
   "outputs": [],
   "source": [
    "class Car_Inventory:\n",
    "    def __init__ (self, max_speed, mileage, color = \"white\"):\n",
    "        self.max_speed = max_speed\n",
    "        self.mileage = mileage\n",
    "        self.color = color\n",
    "    def add_seating(self, seating_capacity):\n",
    "        self.seating_capacity = seating_capacity\n",
    "            "
   ]
  },
  {
   "cell_type": "markdown",
   "metadata": {},
   "source": [
    "Task-4. Create a method to display all the properties of an object of the class. "
   ]
  },
  {
   "cell_type": "code",
   "execution_count": null,
   "metadata": {},
   "outputs": [],
   "source": [
    "class Car_Inventory:\n",
    "    def __init__ (self, max_speed, mileage, color = \"white\", seating_capacity=None):\n",
    "        self.max_speed = max_speed\n",
    "        self.mileage = mileage\n",
    "        self.color = color\n",
    "        self.seating_capacity = seating_capacity #this will avoid error if seating_capacity is not provided\n",
    "    def add_seating(self, seating_capacity):\n",
    "        self.seating_capacity = seating_capacity\n",
    "        return self #this will avoid error when add_seating is called directly after the class (as below)\n",
    "    def properties(self):\n",
    "        return f\"Max Speed: {self.max_speed}, Mileage: {self.mileage}, Color: {self.color}, Seating Capacity: {self.seating_capacity}\"    "
   ]
  },
  {
   "cell_type": "markdown",
   "metadata": {},
   "source": [
    "Task-5. Additionally, you need to create two objects of the Vehicle class object that should have a max speed of 200kmph and mileage of 20kmpl with five seating capacities, and another car object should have a max speed of 180kmph and mileage of 25kmpl with four seating capacities."
   ]
  },
  {
   "cell_type": "code",
   "execution_count": 57,
   "metadata": {},
   "outputs": [
    {
     "name": "stdout",
     "output_type": "stream",
     "text": [
      "Max Speed: 200, Mileage: 20, Color: white, Seating Capacity: 5\n",
      "Max Speed: 180, Mileage: 25, Color: white, Seating Capacity: 4\n"
     ]
    }
   ],
   "source": [
    "Vehicle1 = Car_Inventory(200, 20, \"white\").add_seating(5)\n",
    "Vechicle2 = Car_Inventory(180, 25, \"white\").add_seating(4)\n",
    "\n",
    "print(Vehicle1.properties())\n",
    "print(Vechicle2.properties())"
   ]
  },
  {
   "cell_type": "markdown",
   "metadata": {},
   "source": [
    "**Let's consider a real-life scenario where you are analyzing customer feedback for a product. You have a large data set of customer reviews in the form of strings, and you want to extract useful information from them using the three identified tasks:**\n",
    "\n",
    "**Task 1. String in lowercase:**\n",
    "You want to pre-process the customer feedback by converting all the text to lowercase. This step helps standardize the text. Lower casing the text allows you to focus on the content rather than the specific letter casing.\n",
    "\n",
    "**Task 2. Frequency of all words in a given string:**\n",
    "After converting the text to lowercase, you want to determine the frequency of each word in the customer feedback. This information will help you identify which words are used more frequently, indicating the key aspects or topics that customers are mentioning in their reviews. By analyzing the word frequencies, you can gain insights into the most common issues raised by customers.\n",
    "\n",
    "**Task 3. Frequency of a specific word:**\n",
    "In addition to analyzing the overall word frequencies, you want to specifically track the frequency of a particular word that is relevant to your analysis. For example, you might be interested in monitoring how often the word \"reliable\" appears in customer reviews to gauge customer sentiment about the product's reliability. By focusing on the frequency of a specific word, you can gain a deeper understanding of customer opinions or preferences related to that particular aspect.\n",
    "\n",
    "By performing these tasks on the customer feedback dataset, you can gain valuable insights into customer sentiment\n"
   ]
  },
  {
   "cell_type": "code",
   "execution_count": null,
   "metadata": {},
   "outputs": [
    {
     "name": "stdout",
     "output_type": "stream",
     "text": [
      "The word diam appears 5 times.\n"
     ]
    }
   ],
   "source": [
    "givenstring=\"Lorem ipsum dolor! diam amet, consetetur Lorem magna. sed diam nonumy eirmod tempor. diam et labore? et diam magna. et diam amet.\"\n",
    "\n",
    "class TextAnalyzer:\n",
    "    def __init__(self, text):\n",
    "        self.text = text\n",
    "        formatedText = self.text.lower().replace(\"!\", \"\").replace(\",\", \"\").replace(\".\", \"\").replace(\"?\", \"\")\n",
    "        self.formatedText = formatedText\n",
    "    \n",
    "    def freqAll(self):\n",
    "        words = self.formatedText.split() #Needs to have self. to work\n",
    "        self.All_Words = {} #Save it as an instance variable\n",
    "        #print(words)\n",
    "        for word in words: \n",
    "            self.All_Words[word]=words.count(word)\n",
    "        return self\n",
    "    \n",
    "    def freqSW(self,specific_word):\n",
    "        if specific_word in self.All_Words:\n",
    "            return self.All_Words[specific_word]\n",
    "        else:\n",
    "            return 0\n",
    "        \n",
    "word = \"diam\"\n",
    "\n",
    "#Calling all methods\n",
    "analyzed = TextAnalyzer(givenstring)\n",
    "analyzed.freqAll()\n",
    "frequency = analyzed.freqSW(word)\n",
    "\n",
    "\n",
    "print(\"The word\",word,\"appears\",frequency,\"times.\")\n"
   ]
  }
 ],
 "metadata": {
  "kernelspec": {
   "display_name": "Python 3",
   "language": "python",
   "name": "python3"
  },
  "language_info": {
   "codemirror_mode": {
    "name": "ipython",
    "version": 3
   },
   "file_extension": ".py",
   "mimetype": "text/x-python",
   "name": "python",
   "nbconvert_exporter": "python",
   "pygments_lexer": "ipython3",
   "version": "3.9.6"
  }
 },
 "nbformat": 4,
 "nbformat_minor": 2
}
